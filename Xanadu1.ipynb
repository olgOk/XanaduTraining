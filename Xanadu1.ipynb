{
  "nbformat": 4,
  "nbformat_minor": 0,
  "metadata": {
    "colab": {
      "name": "Xanadu1.ipynb",
      "provenance": [],
      "collapsed_sections": [],
      "authorship_tag": "ABX9TyNa+ZtjhUJHHsZ8giUfnpfl",
      "include_colab_link": true
    },
    "kernelspec": {
      "name": "python3",
      "display_name": "Python 3"
    }
  },
  "cells": [
    {
      "cell_type": "markdown",
      "metadata": {
        "id": "view-in-github",
        "colab_type": "text"
      },
      "source": [
        "<a href=\"https://colab.research.google.com/github/olgOk/XanaduTraining/blob/master/Xanadu1.ipynb\" target=\"_parent\"><img src=\"https://colab.research.google.com/assets/colab-badge.svg\" alt=\"Open In Colab\"/></a>"
      ]
    },
    {
      "cell_type": "code",
      "metadata": {
        "id": "L2ywwLWDAmkk",
        "colab_type": "code",
        "colab": {
          "base_uri": "https://localhost:8080/",
          "height": 471
        },
        "outputId": "efaf2733-cb0b-44e8-9f31-676336c4aaea"
      },
      "source": [
        "pip install strawberryfields"
      ],
      "execution_count": 1,
      "outputs": [
        {
          "output_type": "stream",
          "text": [
            "Requirement already satisfied: strawberryfields in /usr/local/lib/python3.6/dist-packages (0.14.0)\n",
            "Requirement already satisfied: python-dateutil>=2.8.0 in /usr/local/lib/python3.6/dist-packages (from strawberryfields) (2.8.1)\n",
            "Requirement already satisfied: appdirs in /usr/local/lib/python3.6/dist-packages (from strawberryfields) (1.4.4)\n",
            "Requirement already satisfied: scipy>=1.0.0 in /usr/local/lib/python3.6/dist-packages (from strawberryfields) (1.4.1)\n",
            "Requirement already satisfied: networkx>=2.0 in /usr/local/lib/python3.6/dist-packages (from strawberryfields) (2.4)\n",
            "Requirement already satisfied: urllib3>=1.25.3 in /usr/local/lib/python3.6/dist-packages (from strawberryfields) (1.25.9)\n",
            "Requirement already satisfied: numpy>=1.17.4 in /usr/local/lib/python3.6/dist-packages (from strawberryfields) (1.18.5)\n",
            "Requirement already satisfied: numba in /usr/local/lib/python3.6/dist-packages (from strawberryfields) (0.48.0)\n",
            "Requirement already satisfied: sympy>=1.5 in /usr/local/lib/python3.6/dist-packages (from strawberryfields) (1.6.1)\n",
            "Requirement already satisfied: thewalrus>=0.12 in /usr/local/lib/python3.6/dist-packages (from strawberryfields) (0.12.0)\n",
            "Requirement already satisfied: quantum-blackbird>=0.2.3 in /usr/local/lib/python3.6/dist-packages (from strawberryfields) (0.2.4)\n",
            "Requirement already satisfied: toml in /usr/local/lib/python3.6/dist-packages (from strawberryfields) (0.10.1)\n",
            "Requirement already satisfied: requests>=2.22.0 in /usr/local/lib/python3.6/dist-packages (from strawberryfields) (2.23.0)\n",
            "Requirement already satisfied: six>=1.5 in /usr/local/lib/python3.6/dist-packages (from python-dateutil>=2.8.0->strawberryfields) (1.12.0)\n",
            "Requirement already satisfied: decorator>=4.3.0 in /usr/local/lib/python3.6/dist-packages (from networkx>=2.0->strawberryfields) (4.4.2)\n",
            "Requirement already satisfied: llvmlite<0.32.0,>=0.31.0dev0 in /usr/local/lib/python3.6/dist-packages (from numba->strawberryfields) (0.31.0)\n",
            "Requirement already satisfied: setuptools in /usr/local/lib/python3.6/dist-packages (from numba->strawberryfields) (49.1.0)\n",
            "Requirement already satisfied: mpmath>=0.19 in /usr/local/lib/python3.6/dist-packages (from sympy>=1.5->strawberryfields) (1.1.0)\n",
            "Requirement already satisfied: dask[delayed] in /usr/local/lib/python3.6/dist-packages (from thewalrus>=0.12->strawberryfields) (2.12.0)\n",
            "Requirement already satisfied: antlr4-python3-runtime==4.7.2 in /usr/local/lib/python3.6/dist-packages (from quantum-blackbird>=0.2.3->strawberryfields) (4.7.2)\n",
            "Requirement already satisfied: idna<3,>=2.5 in /usr/local/lib/python3.6/dist-packages (from requests>=2.22.0->strawberryfields) (2.10)\n",
            "Requirement already satisfied: certifi>=2017.4.17 in /usr/local/lib/python3.6/dist-packages (from requests>=2.22.0->strawberryfields) (2020.6.20)\n",
            "Requirement already satisfied: chardet<4,>=3.0.2 in /usr/local/lib/python3.6/dist-packages (from requests>=2.22.0->strawberryfields) (3.0.4)\n",
            "Requirement already satisfied: cloudpickle>=0.2.1; extra == \"delayed\" in /usr/local/lib/python3.6/dist-packages (from dask[delayed]->thewalrus>=0.12->strawberryfields) (1.3.0)\n",
            "Requirement already satisfied: toolz>=0.7.3; extra == \"delayed\" in /usr/local/lib/python3.6/dist-packages (from dask[delayed]->thewalrus>=0.12->strawberryfields) (0.10.0)\n"
          ],
          "name": "stdout"
        }
      ]
    },
    {
      "cell_type": "code",
      "metadata": {
        "id": "ET3Dc6MyAuCz",
        "colab_type": "code",
        "colab": {}
      },
      "source": [
        "import strawberryfields as sf\n",
        "from strawberryfields import ops\n",
        "import numpy as np"
      ],
      "execution_count": 2,
      "outputs": []
    },
    {
      "cell_type": "code",
      "metadata": {
        "id": "dUnBq7aAA8sc",
        "colab_type": "code",
        "colab": {
          "base_uri": "https://localhost:8080/",
          "height": 34
        },
        "outputId": "b599bcfc-1bb0-4bfa-ad1d-1662a018d1c0"
      },
      "source": [
        "prog = sf.Program(2)\n",
        "with prog.context as q:\n",
        "  ops.Fock(2)|q[0]\n",
        "  ops.Fock(1)|q[1]\n",
        "  ops.BSgate(0.2, 0.1)|q\n",
        "  ops.MeasureFock()|q\n",
        "\n",
        "eng = sf.Engine(\"fock\", backend_options={\"cutoff_dim\":5})\n",
        "result = eng.run(prog)\n",
        "print(np.sum(result.samples))"
      ],
      "execution_count": 3,
      "outputs": [
        {
          "output_type": "stream",
          "text": [
            "3\n"
          ],
          "name": "stdout"
        }
      ]
    },
    {
      "cell_type": "code",
      "metadata": {
        "id": "MCx-uUYoBeUC",
        "colab_type": "code",
        "colab": {
          "base_uri": "https://localhost:8080/",
          "height": 141
        },
        "outputId": "7e5cbf8c-f1a1-405d-e9d8-ec79687e2495"
      },
      "source": [
        "prog1 = sf.Program(8)\n",
        "with prog1.context as q:\n",
        "  ops.S2gate(1.0) | (q[0], q[4])\n",
        "  ops.S2gate(1.0) | (q[1], q[5])\n",
        "  ops.S2gate(1.0) | (q[3], q[7])\n",
        "  ops.MeasureFock()|q\n",
        "\n",
        "eng = sf.Engine(\"gaussian\")\n",
        "result = eng.run(prog1, shots=5)\n",
        "print(result.samples)"
      ],
      "execution_count": 4,
      "outputs": [
        {
          "output_type": "stream",
          "text": [
            "/usr/local/lib/python3.6/dist-packages/strawberryfields/backends/gaussianbackend/backend.py:232: UserWarning: Cannot simulate non-Gaussian states. Conditional state after Fock measurement has not been updated.\n"
          ],
          "name": "stderr"
        },
        {
          "output_type": "stream",
          "text": [
            "[[0 0 0 2 0 0 0 2]\n",
            " [0 0 0 2 0 0 0 2]\n",
            " [2 3 0 2 2 3 0 2]\n",
            " [2 0 0 1 2 0 0 1]\n",
            " [0 0 0 0 0 0 0 0]]\n"
          ],
          "name": "stdout"
        }
      ]
    },
    {
      "cell_type": "code",
      "metadata": {
        "id": "R20bDIzQDo0t",
        "colab_type": "code",
        "colab": {
          "base_uri": "https://localhost:8080/",
          "height": 34
        },
        "outputId": "843c65dc-8db1-41f2-deef-17cecf7010ce"
      },
      "source": [
        "sf.store_account(\"qUOm1ptO039jCzVTTEUSd9SHZwkAs5dI8Rj8eIAZ\")\n",
        "sf.ping()"
      ],
      "execution_count": 5,
      "outputs": [
        {
          "output_type": "stream",
          "text": [
            "You have successfully authenticated to the platform!\n"
          ],
          "name": "stdout"
        }
      ]
    },
    {
      "cell_type": "code",
      "metadata": {
        "id": "dz3iv5xpFJbW",
        "colab_type": "code",
        "colab": {
          "base_uri": "https://localhost:8080/",
          "height": 139
        },
        "outputId": "bedd1083-3d29-44cd-9050-d51b03ff9c4c"
      },
      "source": [
        "eng=sf.RemoteEngine(\"X8\")\n",
        "result = eng.run(prog1, shots=5)\n",
        "mes = result.samples\n",
        "print(mes)"
      ],
      "execution_count": 9,
      "outputs": [
        {
          "output_type": "stream",
          "text": [
            "2020-07-15 15:58:09,153 - INFO - Job 18d4495c-da5a-4551-9c91-2a011f89d8cb was successfully submitted.\n",
            "2020-07-15 15:58:35,194 - INFO - The remote job 18d4495c-da5a-4551-9c91-2a011f89d8cb has been completed.\n"
          ],
          "name": "stderr"
        },
        {
          "output_type": "stream",
          "text": [
            "[[0 0 0 0 1 0 0 0]\n",
            " [0 0 0 0 0 1 0 1]\n",
            " [0 0 0 0 1 1 0 0]\n",
            " [0 0 0 1 0 0 0 0]\n",
            " [0 0 0 0 0 0 0 0]]\n"
          ],
          "name": "stdout"
        }
      ]
    },
    {
      "cell_type": "code",
      "metadata": {
        "id": "9U0BlTS2Im-K",
        "colab_type": "code",
        "colab": {
          "base_uri": "https://localhost:8080/",
          "height": 130
        },
        "outputId": "ec4dc76c-d21f-46af-e1cf-96d479d4019a"
      },
      "source": [
        "from strawberryfields.utils import random_interferometer \n",
        "\n",
        "prog = sf.Program(8, name=\"remote_job\")\n",
        "U = random_interferometer(4)\n",
        "​\n",
        "with prog.context as q:\n",
        "    # Initial squeezed states\n",
        "    # Allowed values are r=1.0 or r=0.0\n",
        "    ops.S2gate(1.0) | (q[0], q[4])\n",
        "    ops.S2gate(1.0) | (q[1], q[5])\n",
        "    ops.S2gate(1.0) | (q[3], q[7])\n",
        "​\n",
        "    # Interferometer on the signal modes (0-3)\n",
        "    ops.Interferometer(U) | (q[0], q[1], q[2], q[3])\n",
        "    ops.BSgate(0.543, 0.123) | (q[2], q[0])\n",
        "    ops.Rgate(0.453) | q[1]\n",
        "    ops.MZgate(0.65, -0.54) | (q[2], q[3])\n",
        "​\n",
        "    # *Same* interferometer on the idler modes (4-7)\n",
        "    ops.Interferometer(U) | (q[4], q[5], q[6], q[7])\n",
        "    ops.BSgate(0.543, 0.123) | (q[6], q[4])\n",
        "    ops.Rgate(0.453) | q[5]\n",
        "    ops.MZgate(0.65, -0.54) | (q[6], q[7])\n",
        "​\n",
        "    ops.MeasureFock() | q\n",
        "​\n",
        "eng = sf.RemoteEngine(\"X8\")\n",
        "results = eng.run(prog, shots=1000)\n",
        "print(results)\n"
      ],
      "execution_count": 10,
      "outputs": [
        {
          "output_type": "error",
          "ename": "SyntaxError",
          "evalue": "ignored",
          "traceback": [
            "\u001b[0;36m  File \u001b[0;32m\"<ipython-input-10-755ded7524a9>\"\u001b[0;36m, line \u001b[0;32m5\u001b[0m\n\u001b[0;31m    ​\u001b[0m\n\u001b[0m    ^\u001b[0m\n\u001b[0;31mSyntaxError\u001b[0m\u001b[0;31m:\u001b[0m invalid character in identifier\n"
          ]
        }
      ]
    },
    {
      "cell_type": "code",
      "metadata": {
        "id": "zf3rfLWkJoED",
        "colab_type": "code",
        "colab": {}
      },
      "source": [
        ""
      ],
      "execution_count": null,
      "outputs": []
    }
  ]
}